{
    "nbformat_minor": 1, 
    "cells": [
        {
            "source": "# Used data", 
            "cell_type": "markdown", 
            "metadata": {
                "collapsed": true
            }
        }, 
        {
            "source": "For the analysis I used data scraped from official page The World's 50 Best Restaurants (the list of restaurants, location - city and country)\n\nFor the next step I leveraged foursquare api for obtaining latitude and longitude, type of cuisine, price category and rating. Four restaurants were not assigned correctly (other venues in the location have similar name). As the dataset is small, I did not want to exclude them, so I corrected these four manually.\n\nLastly, I used wikipedia page (List of Michelin 3-star restaurants). Unfortunately, I was not able to find the lists for 1 and 2 stars restaurants. I tried to use official Michelin page but scraping it has proven to be too difficult and time consuming, so I used the wikipedia page instead.", 
            "cell_type": "markdown", 
            "metadata": {}
        }, 
        {
            "execution_count": null, 
            "cell_type": "code", 
            "metadata": {}, 
            "outputs": [], 
            "source": ""
        }
    ], 
    "metadata": {
        "kernelspec": {
            "display_name": "Python 3.5", 
            "name": "python3", 
            "language": "python"
        }, 
        "language_info": {
            "mimetype": "text/x-python", 
            "nbconvert_exporter": "python", 
            "version": "3.5.5", 
            "name": "python", 
            "file_extension": ".py", 
            "pygments_lexer": "ipython3", 
            "codemirror_mode": {
                "version": 3, 
                "name": "ipython"
            }
        }
    }, 
    "nbformat": 4
}