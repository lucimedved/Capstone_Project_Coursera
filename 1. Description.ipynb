{
    "nbformat_minor": 1, 
    "cells": [
        {
            "source": "# The world's top 50 restaurants", 
            "cell_type": "markdown", 
            "metadata": {
                "collapsed": true
            }
        }, 
        {
            "source": "This analysis is aimed mainly at foodies like me :) It examines the best 50 restaurants of the world for the year 2018.\n\nAlso, restaurant owners may leverage it if they strive to get to top 50 best restaurants - what type of kitchen is popular, what their foursquare rating sholud be and whether they have to have 3 Michelin stars or not. (Of course, it should be taken figuratively - whether you get to Top 50 depends on a lot more indicators then listed here :) )\n\nThe analysis uses information about the location, type of cuisine, price category, rating and whether the restaurant has 3 Micheline stars.\n\nI used the presentation format as a tool for showing all important graphs and maps.\n", 
            "cell_type": "markdown", 
            "metadata": {}
        }, 
        {
            "execution_count": null, 
            "cell_type": "code", 
            "metadata": {}, 
            "outputs": [], 
            "source": ""
        }
    ], 
    "metadata": {
        "kernelspec": {
            "display_name": "Python 3.5", 
            "name": "python3", 
            "language": "python"
        }, 
        "language_info": {
            "mimetype": "text/x-python", 
            "nbconvert_exporter": "python", 
            "version": "3.5.5", 
            "name": "python", 
            "file_extension": ".py", 
            "pygments_lexer": "ipython3", 
            "codemirror_mode": {
                "version": 3, 
                "name": "ipython"
            }
        }
    }, 
    "nbformat": 4
}