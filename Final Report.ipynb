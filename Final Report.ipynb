{
    "nbformat_minor": 1, 
    "cells": [
        {
            "source": "# The world's top 50 restaurants\n", 
            "cell_type": "markdown", 
            "metadata": {
                "collapsed": true
            }
        }, 
        {
            "source": "This analysis is aimed mainly at foodies like me :) It examines the best 50 restaurants of the world for the year 2018.\n\nAlso, restaurant owners may leverage it if they strive to get to top 50 best restaurants - what type of kitchen is popular, what their foursquare rating sholud be and whether they have to have 3 Michelin stars or not. (Of course, it should be taken figuratively - whether you get to Top 50 depends on a lot more indicators then listed here :) )\n\nThe analysis uses information about the location, type of cuisine, price category, rating and whether the restaurant has 3 Micheline stars.\n\nI used the presentation format as a tool for showing all important graphs and maps.\n", 
            "cell_type": "markdown", 
            "metadata": {}
        }, 
        {
            "source": "# Data", 
            "cell_type": "markdown", 
            "metadata": {}
        }, 
        {
            "source": "For the analysis I used data scraped from official page The World's 50 Best Restaurants (the list of restaurants, location - city and country)\n\nFor the next step I leveraged foursquare api for obtaining latitude and longitude, type of cuisine, price category and rating. Four restaurants were not assigned correctly (other venues in the location have similar name). As the dataset is small, I did not want to exclude them, so I corrected these four manually.\n\nLastly, I used wikipedia page (List of Michelin 3-star restaurants). Unfortunately, I was not able to find the lists for 1 and 2 stars restaurants. I tried to use official Michelin page but scraping it has proven to be too difficult and time consuming, so I used the wikipedia page instead.", 
            "cell_type": "markdown", 
            "metadata": {}
        }, 
        {
            "source": "# Methodology", 
            "cell_type": "markdown", 
            "metadata": {}
        }, 
        {
            "source": "For getting the base of my data set I used BeautifulSoup to obtain needed information from the official Top 50 page.\n\nI created dataframe using Pandas\n\nFor getting location, ID, category, price and rating i leveraged Foursquare API\n\nI also used BeautifulSoup for getting info about restaurant having 3 Michelin stars\n\nPandas built-in functions were used during exploratory analysis\n\nFor plotting the graphs I used seaborn library\n\nMaps were created by using folium\n\nIn clustering section I used sci-kit learn (KMeans algorithm)\n", 
            "cell_type": "markdown", 
            "metadata": {}
        }, 
        {
            "source": "# Results", 
            "cell_type": "markdown", 
            "metadata": {}
        }, 
        {
            "source": "There is 34 unique cities in the observation and 23 unique countries. The list of cities is pretty varied - from well known cities as New York, Paris and London, to lesser known ones as Kobarid in Slovenia, Axpe in Spain, Larrabetzu in Spain or Castel di Sangro in Italy.\n\nThe cities with the most restaurants included within the Top 50 are London and Paris. Both have 4 representatives.  Lima, New York and Tokyo have 3 restaurants in the chart, Bankok, Barcelona, San Sebastian and Mexico City 2 and all others have per 1 representative in the list.\n\nThe country with the most restaurants in the chart is Spain with 7 venues, followed by USA with 6 and France with 5.\n\nThe most popular cuisines are french (7 venues), molecular gastronomy (6 venues) and 6 restaurants did not have specific cuisine stated on foursquare. The italian cuisine has 4 representatives.\n\nRegarding the price category, 24 restaurants are labeled Very Expensive, 15 Expensive, 9 Moderately Expensive and only one is Cheap (restaurant Puja in Mexico City). One restaurant did not have the rating available (Nihonryori in Tokyo)\n\nThe rating for all restaurants is pretty high, only one restaurant has rating below 8.0 (with rating 7.6 it is french restaurant Odette in Singapore). The restaurant with the best rating is Hi\u0161a Franko (Slovenia) with the rating 9.6. The average rating for Top 50 world's restaurants is 8.9.\n\nI created 3 clusters out of the Rating category:\n* Restaurants with best rating (9 and above): \n    - 30 restaurants\n    - 10 have three stars\n    - 16 are Very Expensive, 7 are Expensive, 6 Moderate and 1 Cheap\n\n* Restaurants with rating (8.5-8.9): \n    - 13 restaurants\n    - 6 have three stars\n    - 6 are Very Expensive, 4 are Expensive, 2 Moderate and 1 does not have the information available\n \n* Restaurants with rating (8.4 and less): \n    - 7 restaurants\n    - 2 have three stars\n    - 2 are Very Expensive, 4 are Expensive and 1 is Moderate\n\n\n\n\n#### Michelin stars\nOut of all 50 top restaurants, 18 have 3 Micheline stars. \n\nParis is the city with 3 restaurants in this category, followed by New York with 2.  \n\nAs per countries, the winners are Italy and USA, both having 4 restaurants with 3 Michelin stars. \n\nFor example, in USA those are Eleven Madison Park in NYC, Le Bernardin in NYC, Alinea in Chicago and Saison in San Francisco. \n\nAll 4 italian cuisine restaurants have three Michelin stars, followed by 3 french restaurants. There are 2 three Michelin star restaurants in each of these categories: New American, Molecular \nGastronomy, Scandinavian and Restaurant (with no specific category). \n\n8 out of all 24 Very Expensive restaurants have three stars. 5 out of 15 Expensive and 5 out of 9 Moderate have three stars as well.\n\n10 three Michelin star restaurants have rating 9.0 and more. \n\nThe mean of three Michelin star restaurants' rating is 8.928, the median is 9.0.\n\nFor restaurants which do not have three stars the mean of rating is 8.912 and the median is 9.1.\n\nThe mean of three Michelin star restaurants' price tier (4=Very Expensive, 1=Cheap) mean is 3.17, the median is 3.0.\n\nFor restaurants which do not have three stars the mean of price tier is 3.32 and the median is 4.0.\n\n\n", 
            "cell_type": "markdown", 
            "metadata": {}
        }, 
        {
            "source": "# Observations", 
            "cell_type": "markdown", 
            "metadata": {}
        }, 
        {
            "source": "+ The restaurants mostly cook regional cuisine, with some exeptions (e.g. french restaurant Odette in Singapore or japanese restaurant Maido in Peru)\n\n+ More restaurants have three Michelin stars in Moderate price category than not.\n\n+ Restaurants with less than three stars have higher rating median (9.1) than the ones owning three stars(9.0). But the difference is not significant.\n\n+ Restaurants with less than three stars have higher price tier mean(3.323) than the ones owning three stars(3.167). Also the price tier median for non three star restaurants is higher (4). So non three Michelin restaurants in top 50 seems to be in general a bit more expensive than the ones owning three stars.\n\n+ Majority of restaurants is located in the city which is located close to the sea/ocean.\n+ There is no restaurant featured in the top 50 list located in central USA, Canada, Middle East nor eastern Europe. There is only one restaiurant in Africa.\n\n+ All 7 spanish restaurants are located close to French border (north, north-east of the country).\n\n+ All three Michelin star restaurants are in northern hemisphere.\n+ All Scandinavian (Norway, Denmark) and all Italian restaurants have three stars.\n+ 4 out of all 6 USA restaurants have 3 stars.\n+ None of London's 4 restaurants have three stars.\n\n+ The least expensive restaurant is located in Mexico City.\n+ All but one restaurant in USA are Very Expensive. The same is true for Spain.\n+ All restaurants in Italy are Expensive. \n\n+ 2 out of 3 southeast Asia restaurants belongs to the lowest rating category (but still it is around 8.0, which is very good rating).\n\n+ 30 out of all 50 top restaurants belong to the best rating category (have rating 9.0 and above)\n", 
            "cell_type": "markdown", 
            "metadata": {}
        }, 
        {
            "source": "# Conclusion", 
            "cell_type": "markdown", 
            "metadata": {}
        }, 
        {
            "source": "In this project I analyzed the world's top 50 restaurants for the year 2018.\nThe restaurants in this list are mostly pretty expensive and have excelent rating (all but one have rating above 8.0, most of them even above 9.0).\nI was surprised that Peru has 3 restaurants in top 50 as well as a small spanish region of Basque country have 4.\nWhat is also interesting is the fact that none of all restaurants located within southern hemisphere have three Michelin stars.\n\n* Please take this following conclusion not very seriously :) :\n    * If you strive to once have your restaurant featured in top 50 world's restaurants list cook french or molecular cuisine, preferably in Spain, have a high price policy, and most importantly try to make your costomers love your food (so they will rank your venue 9.0 or more).\n    * Or create something totally diffetrent than seen here to stand out of all competitors.\n\n", 
            "cell_type": "markdown", 
            "metadata": {}
        }, 
        {
            "execution_count": null, 
            "cell_type": "code", 
            "metadata": {}, 
            "outputs": [], 
            "source": ""
        }
    ], 
    "metadata": {
        "kernelspec": {
            "display_name": "Python 3.5", 
            "name": "python3", 
            "language": "python"
        }, 
        "language_info": {
            "mimetype": "text/x-python", 
            "nbconvert_exporter": "python", 
            "version": "3.5.5", 
            "name": "python", 
            "file_extension": ".py", 
            "pygments_lexer": "ipython3", 
            "codemirror_mode": {
                "version": 3, 
                "name": "ipython"
            }
        }
    }, 
    "nbformat": 4
}